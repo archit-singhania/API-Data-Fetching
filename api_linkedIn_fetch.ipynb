{
 "cells": [
  {
   "cell_type": "code",
   "execution_count": 1,
   "id": "6f52b2da-4411-4a02-9bd9-456c01a9f419",
   "metadata": {},
   "outputs": [
    {
     "name": "stdout",
     "output_type": "stream",
     "text": [
      "{'id': 11848598, 'urn': 'ACoAAAC0y5YB1d3L356Yaf3g3Tb5PR4O7scFb5o', 'username': 'adamselipsky', 'firstName': 'Adam', 'lastName': 'Selipsky', 'isCreator': True, 'isOpenToWork': False, 'isHiring': False, 'profilePicture': 'https://media.licdn.com/dms/image/v2/D5603AQGZJ-njdtv_-g/profile-displayphoto-shrink_800_800/profile-displayphoto-shrink_800_800/0/1719507065641?e=1738195200&v=beta&t=xKE5RqNLfdf8i3X9lqSFa_x1Lq4e1HcXzwFy4pEIhlM', 'backgroundImage': [{'width': 266, 'height': 200, 'url': 'https://media.licdn.com/dms/image/v2/D5616AQEetlwRti-pwA/profile-displaybackgroundimage-shrink_200_800/profile-displaybackgroundimage-shrink_200_800/0/1719506391020?e=1738195200&v=beta&t=SGX6QFtPh962ZISjR301s4yj565SwXmhbbOrrc_j7Dw'}, {'width': 466, 'height': 350, 'url': 'https://media.licdn.com/dms/image/v2/D5616AQEetlwRti-pwA/profile-displaybackgroundimage-shrink_350_1400/profile-displaybackgroundimage-shrink_350_1400/0/1719506391020?e=1738195200&v=beta&t=M2yuFBcavnRZ9zpulzCURLLUD_qDZuXyl0ID3FCBR8o'}], 'summary': 'Adam Selipsky is the CEO of Amazon Web Services (AWS), the world’s most comprehensive and broadly adopted cloud platform. Having previously led AWS marketing, sales, and support for 11 years, from 2005-2016, Selipsky helped launch and grow AWS from a start-up into a multi-billion dollar business. Prior to rejoining AWS in 2021, Selipsky was most recently President and CEO of Tableau Software. He led Tableau through its acquisition by Salesforce, in what was the third largest software industry acquisition at the time. ', 'headline': 'Former CEO at Amazon Web Services (AWS). Former President and CEO at Tableau. ', 'geo': {'country': 'United States', 'city': 'Greater Seattle Area', 'full': 'Greater Seattle Area'}, 'languages': None, 'educations': [{'start': {'year': 0, 'month': 0, 'day': 0}, 'end': {'year': 0, 'month': 0, 'day': 0}, 'fieldOfStudy': '', 'degree': 'MBA', 'grade': '', 'schoolName': 'Harvard Business School', 'description': '', 'activities': '', 'url': 'https://www.linkedin.com/school/harvard-business-school/', 'schoolId': '4867'}, {'start': {'year': 0, 'month': 0, 'day': 0}, 'end': {'year': 0, 'month': 0, 'day': 0}, 'fieldOfStudy': 'Government', 'degree': 'A.B.', 'grade': '', 'schoolName': 'Harvard University', 'description': '', 'activities': '', 'url': 'https://www.linkedin.com/school/harvard-university/', 'schoolId': '1646'}], 'position': [{'companyId': 2382910, 'companyName': 'Amazon Web Services (AWS)', 'companyUsername': 'amazon-web-services', 'companyURL': 'https://www.linkedin.com/company/amazon-web-services/', 'companyLogo': 'https://media.licdn.com/dms/image/v2/C560BAQER_QnUTXrPJw/company-logo_400_400/company-logo_400_400/0/1670264051233/amazon_web_services_logo?e=1740614400&v=beta&t=gKgTMJ7JI9CiF7e9hGCYdjtlOZvgiVYAH0dX9CSIEVw', 'companyIndustry': 'Information Technology & Services', 'companyStaffCountRange': '10001+', 'title': 'CEO', 'multiLocaleTitle': {'en_US': 'CEO'}, 'multiLocaleCompanyName': {'en_US': 'Amazon Web Services (AWS)'}, 'location': '', 'description': 'Led AWS from pre-revenue to $100B revenue run-rate with 37% operating margin. AWS is the world’s most comprehensive and broadly adopted cloud offering.', 'employmentType': '', 'start': {'year': 2021, 'month': 5, 'day': 0}, 'end': {'year': 2024, 'month': 6, 'day': 0}}, {'companyId': 206993, 'companyName': 'Tableau Software', 'companyUsername': 'tableau-software', 'companyURL': 'https://www.linkedin.com/company/tableau-software/', 'companyLogo': 'https://media.licdn.com/dms/image/v2/C560BAQGbNutqXFCq8g/company-logo_400_400/company-logo_400_400/0/1630636446931/tableau_software_logo?e=1740614400&v=beta&t=TJ_cGyYWLpYB9bQGziJZ5WEJpaaE6fjxIrTn8LE5uho', 'companyIndustry': 'Computer Software', 'companyStaffCountRange': '1001 - 5000', 'title': 'CEO', 'multiLocaleTitle': {'en_US': 'CEO'}, 'multiLocaleCompanyName': {'en_US': 'Tableau Software'}, 'location': 'Seattle, WA', 'description': 'Transformed Tableau to subscription model from perpetual licensing. Led company through its acquisition by Salesforce, in what was the third largest software industry acquisition at the time. Tableau helps people see and understand data. People use Tableau’s intuitive business analytics software to fuel exploration, ask questions, and share insights across their organizations.', 'employmentType': '', 'start': {'year': 2016, 'month': 0, 'day': 0}, 'end': {'year': 2021, 'month': 5, 'day': 0}}, {'companyId': 2382910, 'companyName': 'Amazon Web Services (AWS)', 'companyUsername': 'amazon-web-services', 'companyURL': 'https://www.linkedin.com/company/amazon-web-services/', 'companyLogo': 'https://media.licdn.com/dms/image/v2/C560BAQER_QnUTXrPJw/company-logo_400_400/company-logo_400_400/0/1670264051233/amazon_web_services_logo?e=1740614400&v=beta&t=gKgTMJ7JI9CiF7e9hGCYdjtlOZvgiVYAH0dX9CSIEVw', 'companyIndustry': 'Information Technology & Services', 'companyStaffCountRange': '10001+', 'title': 'Vice President of Marketing, Sales, & Support - COO role', 'multiLocaleTitle': {'en_US': 'Vice President of Marketing, Sales, & Support - COO role'}, 'multiLocaleCompanyName': {'en_US': 'Amazon Web Services (AWS)'}, 'location': 'Seattle, WA', 'description': \"Worldwide responsibility for AWS marketing, sales, business development, partner management, technical support and customer service, and product marketing/mgmt. Member of Amazon's 18-person senior operating committee (S-Team). Took AWS from pre-revenue to $13B+ revenue business still growing 50%/yr while growing team size from fewer than 10 to thousands.\", 'employmentType': '', 'start': {'year': 2005, 'month': 0, 'day': 0}, 'end': {'year': 2016, 'month': 0, 'day': 0}}, {'companyId': 3646, 'companyName': 'RealNetworks', 'companyUsername': 'realnetworks', 'companyURL': 'https://www.linkedin.com/company/realnetworks/', 'companyLogo': 'https://media.licdn.com/dms/image/v2/C560BAQEK239n0aSjRw/company-logo_400_400/company-logo_400_400/0/1630584651337/realnetworks_logo?e=1740614400&v=beta&t=UorbbSJ3S2vc0sXUXvvOUZsKlApRbQ3_T-r8AG5ZXbQ', 'companyIndustry': 'Computer Software', 'companyStaffCountRange': '201 - 500', 'title': 'Vice President (general management, marketing)', 'multiLocaleTitle': {'en_US': 'Vice President (general management, marketing)'}, 'multiLocaleCompanyName': {'en_US': 'RealNetworks'}, 'location': 'Seattle, WA', 'description': 'Vice President for Video Subscription business, RealPlayer, and Customer Support; responsible for over one-third of company revenue. Previously served as Vice President of Consumer Marketing, including running real.com, ranking in top ten most trafficked websites. Also served as General Manager for Media Systems Marketing, responsible for all marketing activities to enterprises, developers, and IT organizations.', 'employmentType': '', 'start': {'year': 1999, 'month': 0, 'day': 0}, 'end': {'year': 2005, 'month': 0, 'day': 0}}, {'companyId': 2453, 'companyName': 'Mercer Management Consulting', 'companyUsername': 'mercer-management-consulting', 'companyURL': 'https://www.linkedin.com/company/mercer-management-consulting/', 'companyLogo': '', 'companyIndustry': 'Management Consulting', 'companyStaffCountRange': '1001 - 5000', 'title': 'Principal', 'multiLocaleTitle': {'en_US': 'Principal'}, 'multiLocaleCompanyName': {'en_US': 'Mercer Management Consulting'}, 'location': 'Boston, MA', 'description': 'Partner in strategy consulting firm, focused on computing and communications industries. Led client engagements including marketing strategy, cost benchmarking, strategic growth initiatives, merger analysis, financial planning, and process reengineering.', 'employmentType': '', 'start': {'year': 1993, 'month': 0, 'day': 0}, 'end': {'year': 1999, 'month': 0, 'day': 0}}], 'fullPositions': [{'companyId': 2382910, 'companyName': 'Amazon Web Services (AWS)', 'companyUsername': 'amazon-web-services', 'companyURL': 'https://www.linkedin.com/company/amazon-web-services/', 'companyLogo': 'https://media.licdn.com/dms/image/v2/C560BAQER_QnUTXrPJw/company-logo_400_400/company-logo_400_400/0/1670264051233/amazon_web_services_logo?e=1740614400&v=beta&t=gKgTMJ7JI9CiF7e9hGCYdjtlOZvgiVYAH0dX9CSIEVw', 'companyIndustry': 'Information Technology & Services', 'companyStaffCountRange': '10001+', 'title': 'CEO', 'multiLocaleTitle': {'en_US': 'CEO'}, 'multiLocaleCompanyName': {'en_US': 'Amazon Web Services (AWS)'}, 'location': '', 'description': 'Led AWS from pre-revenue to $100B revenue run-rate with 37% operating margin. AWS is the world’s most comprehensive and broadly adopted cloud offering.', 'employmentType': '', 'start': {'year': 2021, 'month': 5, 'day': 0}, 'end': {'year': 2024, 'month': 6, 'day': 0}}, {'companyId': 206993, 'companyName': 'Tableau Software', 'companyUsername': 'tableau-software', 'companyURL': 'https://www.linkedin.com/company/tableau-software/', 'companyLogo': 'https://media.licdn.com/dms/image/v2/C560BAQGbNutqXFCq8g/company-logo_400_400/company-logo_400_400/0/1630636446931/tableau_software_logo?e=1740614400&v=beta&t=TJ_cGyYWLpYB9bQGziJZ5WEJpaaE6fjxIrTn8LE5uho', 'companyIndustry': 'Computer Software', 'companyStaffCountRange': '1001 - 5000', 'title': 'CEO', 'multiLocaleTitle': {'en_US': 'CEO'}, 'multiLocaleCompanyName': {'en_US': 'Tableau Software'}, 'location': 'Seattle, WA', 'description': 'Transformed Tableau to subscription model from perpetual licensing. Led company through its acquisition by Salesforce, in what was the third largest software industry acquisition at the time. Tableau helps people see and understand data. People use Tableau’s intuitive business analytics software to fuel exploration, ask questions, and share insights across their organizations.', 'employmentType': '', 'start': {'year': 2016, 'month': 0, 'day': 0}, 'end': {'year': 2021, 'month': 5, 'day': 0}}, {'companyId': 2382910, 'companyName': 'Amazon Web Services (AWS)', 'companyUsername': 'amazon-web-services', 'companyURL': 'https://www.linkedin.com/company/amazon-web-services/', 'companyLogo': 'https://media.licdn.com/dms/image/v2/C560BAQER_QnUTXrPJw/company-logo_400_400/company-logo_400_400/0/1670264051233/amazon_web_services_logo?e=1740614400&v=beta&t=gKgTMJ7JI9CiF7e9hGCYdjtlOZvgiVYAH0dX9CSIEVw', 'companyIndustry': 'Information Technology & Services', 'companyStaffCountRange': '10001+', 'title': 'Vice President of Marketing, Sales, & Support - COO role', 'multiLocaleTitle': {'en_US': 'Vice President of Marketing, Sales, & Support - COO role'}, 'multiLocaleCompanyName': {'en_US': 'Amazon Web Services (AWS)'}, 'location': 'Seattle, WA', 'description': \"Worldwide responsibility for AWS marketing, sales, business development, partner management, technical support and customer service, and product marketing/mgmt. Member of Amazon's 18-person senior operating committee (S-Team). Took AWS from pre-revenue to $13B+ revenue business still growing 50%/yr while growing team size from fewer than 10 to thousands.\", 'employmentType': '', 'start': {'year': 2005, 'month': 0, 'day': 0}, 'end': {'year': 2016, 'month': 0, 'day': 0}}, {'companyId': 3646, 'companyName': 'RealNetworks', 'companyUsername': 'realnetworks', 'companyURL': 'https://www.linkedin.com/company/realnetworks/', 'companyLogo': 'https://media.licdn.com/dms/image/v2/C560BAQEK239n0aSjRw/company-logo_400_400/company-logo_400_400/0/1630584651337/realnetworks_logo?e=1740614400&v=beta&t=UorbbSJ3S2vc0sXUXvvOUZsKlApRbQ3_T-r8AG5ZXbQ', 'companyIndustry': 'Computer Software', 'companyStaffCountRange': '201 - 500', 'title': 'Vice President (general management, marketing)', 'multiLocaleTitle': {'en_US': 'Vice President (general management, marketing)'}, 'multiLocaleCompanyName': {'en_US': 'RealNetworks'}, 'location': 'Seattle, WA', 'description': 'Vice President for Video Subscription business, RealPlayer, and Customer Support; responsible for over one-third of company revenue. Previously served as Vice President of Consumer Marketing, including running real.com, ranking in top ten most trafficked websites. Also served as General Manager for Media Systems Marketing, responsible for all marketing activities to enterprises, developers, and IT organizations.', 'employmentType': '', 'start': {'year': 1999, 'month': 0, 'day': 0}, 'end': {'year': 2005, 'month': 0, 'day': 0}}, {'companyId': 2453, 'companyName': 'Mercer Management Consulting', 'companyUsername': 'mercer-management-consulting', 'companyURL': 'https://www.linkedin.com/company/mercer-management-consulting/', 'companyLogo': '', 'companyIndustry': 'Management Consulting', 'companyStaffCountRange': '1001 - 5000', 'title': 'Principal', 'multiLocaleTitle': {'en_US': 'Principal'}, 'multiLocaleCompanyName': {'en_US': 'Mercer Management Consulting'}, 'location': 'Boston, MA', 'description': 'Partner in strategy consulting firm, focused on computing and communications industries. Led client engagements including marketing strategy, cost benchmarking, strategic growth initiatives, merger analysis, financial planning, and process reengineering.', 'employmentType': '', 'start': {'year': 1993, 'month': 0, 'day': 0}, 'end': {'year': 1999, 'month': 0, 'day': 0}}], 'skills': [{'name': 'Entrepreneurship', 'passedSkillAssessment': False, 'endorsementsCount': 12}, {'name': 'Product Marketing', 'passedSkillAssessment': False, 'endorsementsCount': 7}, {'name': 'Business Strategy', 'passedSkillAssessment': False, 'endorsementsCount': 8}, {'name': 'Mergers & Acquisitions', 'passedSkillAssessment': False, 'endorsementsCount': 5}, {'name': 'Management', 'passedSkillAssessment': False, 'endorsementsCount': 13}, {'name': 'Marketing Strategy', 'passedSkillAssessment': False, 'endorsementsCount': 9}, {'name': 'SaaS', 'passedSkillAssessment': False, 'endorsementsCount': 5}, {'name': 'Business Development', 'passedSkillAssessment': False, 'endorsementsCount': 21}, {'name': 'Product Management', 'passedSkillAssessment': False, 'endorsementsCount': 28}, {'name': 'Management Consulting', 'passedSkillAssessment': False, 'endorsementsCount': 3}, {'name': 'Program Management', 'passedSkillAssessment': False, 'endorsementsCount': 4}, {'name': 'Marketing', 'passedSkillAssessment': False, 'endorsementsCount': 5}, {'name': 'Cloud Computing', 'passedSkillAssessment': False, 'endorsementsCount': 22}, {'name': 'Go-to-market Strategy', 'passedSkillAssessment': False, 'endorsementsCount': 9}, {'name': 'Sales', 'passedSkillAssessment': False, 'endorsementsCount': 2}, {'name': 'Leadership', 'passedSkillAssessment': False, 'endorsementsCount': 5}, {'name': 'Start-ups', 'passedSkillAssessment': False, 'endorsementsCount': 5}, {'name': 'Strategy', 'passedSkillAssessment': False, 'endorsementsCount': 8}, {'name': 'Strategic Partnerships', 'passedSkillAssessment': False, 'endorsementsCount': 22}], 'givenRecommendation': None, 'givenRecommendationCount': 0, 'receivedRecommendation': None, 'receivedRecommendationCount': 0, 'courses': None, 'certifications': None, 'honors': None, 'projects': {'total': 0, 'items': None}, 'volunteering': None, 'supportedLocales': [{'country': 'US', 'language': 'en'}], 'multiLocaleFirstName': {'en': 'Adam'}, 'multiLocaleLastName': {'en': 'Selipsky'}, 'multiLocaleHeadline': {'en': 'Former CEO at Amazon Web Services (AWS). Former President and CEO at Tableau. '}}\n"
     ]
    }
   ],
   "source": [
    "import requests\n",
    "import json\n",
    "\n",
    "def setup_api():\n",
    "    endpoint = \"https://linkedin-data-api.p.rapidapi.com/get-profile-data-by-url\"\n",
    "    querystring = {\"url\":\"https://www.linkedin.com/in/adamselipsky/\"}\n",
    "    headers = {\n",
    "        \"x-rapidapi-key\": \"b1eae6d022msh7daf5d27f9b259dp1e9c79jsn92395fddbca6\",\n",
    "        \"x-rapidapi-host\": \"linkedin-data-api.p.rapidapi.com\"\n",
    "    }\n",
    "    return endpoint, querystring, headers\n",
    "\n",
    "endpoint, querystring, headers = setup_api()\n",
    "\n",
    "def make_request():\n",
    "    response = requests.get(endpoint, headers=headers, params=querystring)\n",
    "    if response.status_code == 429: \n",
    "        print(\"Rate limit hit\")\n",
    "        time.sleep(60) \n",
    "        return make_request()\n",
    "    return response\n",
    "\n",
    "response = make_request()\n",
    "print(response.json())"
   ]
  },
  {
   "cell_type": "code",
   "execution_count": 2,
   "id": "67d5366c-d700-4e97-84a2-216763d8e408",
   "metadata": {},
   "outputs": [],
   "source": [
    "def fetch_data(endpoint, querystring, headers):\n",
    "    try:\n",
    "        response = requests.get(endpoint, headers=headers, params=querystring) \n",
    "        if response.status_code == 200:\n",
    "            return response.json()\n",
    "        elif response.status_code == 429:\n",
    "            print(\"Rate limit hit. Retrying after a delay...\")\n",
    "            time.sleep(60)\n",
    "            return fetch_data(endpoint, querystring, headers)\n",
    "        else:\n",
    "            print(f\"Failed to fetch data. Status code: {response.status_code}\")\n",
    "            return None\n",
    "    except Exception as e:\n",
    "        print(f\"Error during request: {e}\")\n",
    "        return None"
   ]
  },
  {
   "cell_type": "code",
   "execution_count": 3,
   "id": "88c32298-2351-44d4-9983-ed90a1e4dc3c",
   "metadata": {},
   "outputs": [],
   "source": [
    "def process_data(data):\n",
    "    profile = {\n",
    "        'id': data.get('id', 'N/A'),\n",
    "        'urn': data.get('urn', 'N/A'),\n",
    "        'username': data.get('username', 'N/A'),\n",
    "        'full_name': f\"{data.get('firstName', '')} {data.get('lastName', '')}\".strip(),\n",
    "        'is_creator': data.get('isCreator', False),\n",
    "        'is_open_to_work': data.get('isOpenToWork', False),\n",
    "        'is_hiring': data.get('isHiring', False),\n",
    "        'profile_picture': data.get('profilePicture', 'N/A'),\n",
    "        'headline': data.get('headline', 'N/A'),\n",
    "        'summary': data.get('summary', 'N/A'),\n",
    "        'location': data.get('geo', {}).get('full', 'N/A'),\n",
    "        'languages': data.get('languages', 'N/A'),\n",
    "    }\n",
    "    educations = [\n",
    "        {\n",
    "            'school_name': edu.get('schoolName', 'N/A'),\n",
    "            'degree': edu.get('degree', 'N/A'),\n",
    "            'field_of_study': edu.get('fieldOfStudy', 'N/A'),\n",
    "            'start_year': edu.get('start', 'N/A'),\n",
    "            'end_year': edu.get('end', 'N/A'),\n",
    "            'school_url': edu.get('url', 'N/A'),\n",
    "        }\n",
    "        for edu in data.get('educations', [])\n",
    "    ]\n",
    "    positions = [\n",
    "        {\n",
    "            'company_name': pos.get('companyName', 'N/A'),\n",
    "            'title': pos.get('title', 'N/A'),\n",
    "            'location': pos.get('location', 'N/A'),\n",
    "            'start_date': pos.get('start', 'N/A'),\n",
    "            'end_date': pos.get('end', 'N/A'),\n",
    "            'company_url': pos.get('companyURL', 'N/A'),\n",
    "            'company_logo': pos.get('companyLogo', 'N/A'),\n",
    "            'description': pos.get('description', 'N/A'),\n",
    "        }\n",
    "        for pos in data.get('position', [])\n",
    "    ]\n",
    "    skills = [\n",
    "        {\n",
    "            'skill_name': skill.get('name', 'N/A'),\n",
    "            'endorsements': skill.get('endorsementsCount', 0),\n",
    "        }\n",
    "        for skill in data.get('skills', [])\n",
    "    ]\n",
    "    processed_data = {\n",
    "        'profile': profile,\n",
    "        'educations': educations,\n",
    "        'positions': positions,\n",
    "        'skills': skills,\n",
    "    }\n",
    "    return processed_data"
   ]
  },
  {
   "cell_type": "code",
   "execution_count": 4,
   "id": "27b28c71-9082-4734-936d-beb80e2d2267",
   "metadata": {},
   "outputs": [],
   "source": [
    "from rich.console import Console\n",
    "from rich.table import Table\n",
    "from rich.json import JSON\n",
    "\n",
    "console = Console()\n",
    "\n",
    "def display_results():\n",
    "    endpoint, querystring, headers = setup_api()\n",
    "    response_data = fetch_data(endpoint, querystring, headers)\n",
    "    if response_data:\n",
    "        processed_data = process_data(response_data)\n",
    "        console.print(\"[bold underline cyan]Profile Details[/]\")\n",
    "        profile = processed_data['profile']\n",
    "        console.print(f\"[bold]Full Name:[/bold] {profile['full_name']}\")\n",
    "        console.print(f\"[bold]Headline:[/bold] {profile['headline']}\")\n",
    "        console.print(f\"[bold]Location:[/bold] {profile['location']}\")\n",
    "        console.print(f\"[bold]Summary:[/bold] {profile['summary']}\")\n",
    "        console.print(f\"[bold]Profile Picture URL:[/bold] {profile['profile_picture']}\")\n",
    "        console.print(\"\\n\")\n",
    "        console.print(\"[bold underline green]Education Details[/]\")\n",
    "        education_table = Table(title=\"Education Details\", show_header=True, header_style=\"bold magenta\")\n",
    "        education_table.add_column(\"School Name\", style=\"dim\")\n",
    "        education_table.add_column(\"Degree\")\n",
    "        education_table.add_column(\"Field of Study\")\n",
    "        education_table.add_column(\"Years\", justify=\"center\")\n",
    "        for edu in processed_data['educations']:\n",
    "            education_table.add_row(\n",
    "                edu['school_name'],\n",
    "                edu['degree'],\n",
    "                edu['field_of_study'],\n",
    "                f\"{edu['start_year']} - {edu['end_year']}\"\n",
    "            )\n",
    "        console.print(education_table)\n",
    "        console.print(\"\\n\")\n",
    "        console.print(\"[bold underline yellow]Work Experience[/]\")\n",
    "        position_table = Table(title=\"Work Experience\", show_header=True, header_style=\"bold blue\")\n",
    "        position_table.add_column(\"Company Name\")\n",
    "        position_table.add_column(\"Title\")\n",
    "        position_table.add_column(\"Location\")\n",
    "        position_table.add_column(\"Duration\", justify=\"center\")\n",
    "        position_table.add_column(\"Description\", overflow=\"fold\")\n",
    "        for pos in processed_data['positions']:\n",
    "            position_table.add_row(\n",
    "                pos['company_name'],\n",
    "                pos['title'],\n",
    "                pos['location'],\n",
    "                f\"{pos['start_date']} - {pos['end_date']}\",\n",
    "                pos['description']\n",
    "            )\n",
    "        console.print(position_table)\n",
    "        console.print(\"\\n\")\n",
    "        console.print(\"[bold underline blue]Skills[/]\")\n",
    "        skills_table = Table(title=\"Skills\", show_header=True, header_style=\"bold cyan\")\n",
    "        skills_table.add_column(\"Skill Name\")\n",
    "        skills_table.add_column(\"Endorsements\", justify=\"center\")\n",
    "        for skill in processed_data['skills']:\n",
    "            skills_table.add_row(\n",
    "                skill['skill_name'],\n",
    "                str(skill['endorsements'])\n",
    "            )\n",
    "        console.print(skills_table)\n",
    "        console.print(\"\\n\")"
   ]
  },
  {
   "cell_type": "code",
   "execution_count": 5,
   "id": "fda056f4-1a0f-422b-aa04-4612fcd4fb14",
   "metadata": {},
   "outputs": [
    {
     "data": {
      "text/html": [
       "<pre style=\"white-space:pre;overflow-x:auto;line-height:normal;font-family:Menlo,'DejaVu Sans Mono',consolas,'Courier New',monospace\"><span style=\"color: #008080; text-decoration-color: #008080; font-weight: bold; text-decoration: underline\">Profile Details</span>\n",
       "</pre>\n"
      ],
      "text/plain": [
       "\u001b[1;4;36mProfile Details\u001b[0m\n"
      ]
     },
     "metadata": {},
     "output_type": "display_data"
    },
    {
     "data": {
      "text/html": [
       "<pre style=\"white-space:pre;overflow-x:auto;line-height:normal;font-family:Menlo,'DejaVu Sans Mono',consolas,'Courier New',monospace\"><span style=\"font-weight: bold\">Full Name:</span> Adam Selipsky\n",
       "</pre>\n"
      ],
      "text/plain": [
       "\u001b[1mFull Name:\u001b[0m Adam Selipsky\n"
      ]
     },
     "metadata": {},
     "output_type": "display_data"
    },
    {
     "data": {
      "text/html": [
       "<pre style=\"white-space:pre;overflow-x:auto;line-height:normal;font-family:Menlo,'DejaVu Sans Mono',consolas,'Courier New',monospace\"><span style=\"font-weight: bold\">Headline:</span> Former CEO at Amazon Web Services <span style=\"font-weight: bold\">(</span>AWS<span style=\"font-weight: bold\">)</span>. Former President and CEO at Tableau. \n",
       "</pre>\n"
      ],
      "text/plain": [
       "\u001b[1mHeadline:\u001b[0m Former CEO at Amazon Web Services \u001b[1m(\u001b[0mAWS\u001b[1m)\u001b[0m. Former President and CEO at Tableau. \n"
      ]
     },
     "metadata": {},
     "output_type": "display_data"
    },
    {
     "data": {
      "text/html": [
       "<pre style=\"white-space:pre;overflow-x:auto;line-height:normal;font-family:Menlo,'DejaVu Sans Mono',consolas,'Courier New',monospace\"><span style=\"font-weight: bold\">Location:</span> Greater Seattle Area\n",
       "</pre>\n"
      ],
      "text/plain": [
       "\u001b[1mLocation:\u001b[0m Greater Seattle Area\n"
      ]
     },
     "metadata": {},
     "output_type": "display_data"
    },
    {
     "data": {
      "text/html": [
       "<pre style=\"white-space:pre;overflow-x:auto;line-height:normal;font-family:Menlo,'DejaVu Sans Mono',consolas,'Courier New',monospace\"><span style=\"font-weight: bold\">Summary:</span> Adam Selipsky is the CEO of Amazon Web Services <span style=\"font-weight: bold\">(</span>AWS<span style=\"font-weight: bold\">)</span>, the world’s most comprehensive and broadly adopted \n",
       "cloud platform. Having previously led AWS marketing, sales, and support for <span style=\"color: #008080; text-decoration-color: #008080; font-weight: bold\">11</span> years, from <span style=\"color: #008080; text-decoration-color: #008080; font-weight: bold\">2005</span>-<span style=\"color: #008080; text-decoration-color: #008080; font-weight: bold\">2016</span>, Selipsky \n",
       "helped launch and grow AWS from a start-up into a multi-billion dollar business. Prior to rejoining AWS in <span style=\"color: #008080; text-decoration-color: #008080; font-weight: bold\">2021</span>, \n",
       "Selipsky was most recently President and CEO of Tableau Software. He led Tableau through its acquisition by \n",
       "Salesforce, in what was the third largest software industry acquisition at the time. \n",
       "</pre>\n"
      ],
      "text/plain": [
       "\u001b[1mSummary:\u001b[0m Adam Selipsky is the CEO of Amazon Web Services \u001b[1m(\u001b[0mAWS\u001b[1m)\u001b[0m, the world’s most comprehensive and broadly adopted \n",
       "cloud platform. Having previously led AWS marketing, sales, and support for \u001b[1;36m11\u001b[0m years, from \u001b[1;36m2005\u001b[0m-\u001b[1;36m2016\u001b[0m, Selipsky \n",
       "helped launch and grow AWS from a start-up into a multi-billion dollar business. Prior to rejoining AWS in \u001b[1;36m2021\u001b[0m, \n",
       "Selipsky was most recently President and CEO of Tableau Software. He led Tableau through its acquisition by \n",
       "Salesforce, in what was the third largest software industry acquisition at the time. \n"
      ]
     },
     "metadata": {},
     "output_type": "display_data"
    },
    {
     "data": {
      "text/html": [
       "<pre style=\"white-space:pre;overflow-x:auto;line-height:normal;font-family:Menlo,'DejaVu Sans Mono',consolas,'Courier New',monospace\"><span style=\"font-weight: bold\">Profile Picture URL:</span> \n",
       "<span style=\"color: #0000ff; text-decoration-color: #0000ff; text-decoration: underline\">https://media.licdn.com/dms/image/v2/D5603AQGZJ-njdtv_-g/profile-displayphoto-shrink_800_800/profile-displayphoto-s</span>\n",
       "<span style=\"color: #0000ff; text-decoration-color: #0000ff; text-decoration: underline\">hrink_800_800/0/1719507065641?e=1738195200&amp;v=beta&amp;t=xKE5RqNLfdf8i3X9lqSFa_x1Lq4e1HcXzwFy4pEIhlM</span>\n",
       "</pre>\n"
      ],
      "text/plain": [
       "\u001b[1mProfile Picture URL:\u001b[0m \n",
       "\u001b[4;94mhttps://media.licdn.com/dms/image/v2/D5603AQGZJ-njdtv_-g/profile-displayphoto-shrink_800_800/profile-displayphoto-s\u001b[0m\n",
       "\u001b[4;94mhrink_800_800/0/1719507065641?\u001b[0m\u001b[4;94me\u001b[0m\u001b[4;94m=\u001b[0m\u001b[4;94m1738195200\u001b[0m\u001b[4;94m&\u001b[0m\u001b[4;94mv\u001b[0m\u001b[4;94m=\u001b[0m\u001b[4;94mbeta\u001b[0m\u001b[4;94m&\u001b[0m\u001b[4;94mt\u001b[0m\u001b[4;94m=\u001b[0m\u001b[4;94mxKE5RqNLfdf8i3X9lqSFa_x1Lq4e1HcXzwFy4pEIhlM\u001b[0m\n"
      ]
     },
     "metadata": {},
     "output_type": "display_data"
    },
    {
     "data": {
      "text/html": [
       "<pre style=\"white-space:pre;overflow-x:auto;line-height:normal;font-family:Menlo,'DejaVu Sans Mono',consolas,'Courier New',monospace\">\n",
       "\n",
       "</pre>\n"
      ],
      "text/plain": [
       "\n",
       "\n"
      ]
     },
     "metadata": {},
     "output_type": "display_data"
    },
    {
     "data": {
      "text/html": [
       "<pre style=\"white-space:pre;overflow-x:auto;line-height:normal;font-family:Menlo,'DejaVu Sans Mono',consolas,'Courier New',monospace\"><span style=\"color: #008000; text-decoration-color: #008000; font-weight: bold; text-decoration: underline\">Education Details</span>\n",
       "</pre>\n"
      ],
      "text/plain": [
       "\u001b[1;4;32mEducation Details\u001b[0m\n"
      ]
     },
     "metadata": {},
     "output_type": "display_data"
    },
    {
     "data": {
      "text/html": [
       "<pre style=\"white-space:pre;overflow-x:auto;line-height:normal;font-family:Menlo,'DejaVu Sans Mono',consolas,'Courier New',monospace\"><span style=\"font-style: italic\">                                                 Education Details                                                 </span>\n",
       "┏━━━━━━━━━━━━━━━━━━━━━━━━━┳━━━━━━━━┳━━━━━━━━━━━━━━━━┳━━━━━━━━━━━━━━━━━━━━━━━━━━━━━━━━━━━━━━━━━━━━━━━━━━━━━━━━━━━━━┓\n",
       "┃<span style=\"color: #800080; text-decoration-color: #800080; font-weight: bold\"> School Name             </span>┃<span style=\"color: #800080; text-decoration-color: #800080; font-weight: bold\"> Degree </span>┃<span style=\"color: #800080; text-decoration-color: #800080; font-weight: bold\"> Field of Study </span>┃<span style=\"color: #800080; text-decoration-color: #800080; font-weight: bold\">                            Years                            </span>┃\n",
       "┡━━━━━━━━━━━━━━━━━━━━━━━━━╇━━━━━━━━╇━━━━━━━━━━━━━━━━╇━━━━━━━━━━━━━━━━━━━━━━━━━━━━━━━━━━━━━━━━━━━━━━━━━━━━━━━━━━━━━┩\n",
       "│<span style=\"color: #7f7f7f; text-decoration-color: #7f7f7f\"> Harvard Business School </span>│ MBA    │                │ {'year': 0, 'month': 0, 'day': 0} - {'year': 0, 'month': 0, │\n",
       "│<span style=\"color: #7f7f7f; text-decoration-color: #7f7f7f\">                         </span>│        │                │                          'day': 0}                          │\n",
       "│<span style=\"color: #7f7f7f; text-decoration-color: #7f7f7f\"> Harvard University      </span>│ A.B.   │ Government     │ {'year': 0, 'month': 0, 'day': 0} - {'year': 0, 'month': 0, │\n",
       "│<span style=\"color: #7f7f7f; text-decoration-color: #7f7f7f\">                         </span>│        │                │                          'day': 0}                          │\n",
       "└─────────────────────────┴────────┴────────────────┴─────────────────────────────────────────────────────────────┘\n",
       "</pre>\n"
      ],
      "text/plain": [
       "\u001b[3m                                                 Education Details                                                 \u001b[0m\n",
       "┏━━━━━━━━━━━━━━━━━━━━━━━━━┳━━━━━━━━┳━━━━━━━━━━━━━━━━┳━━━━━━━━━━━━━━━━━━━━━━━━━━━━━━━━━━━━━━━━━━━━━━━━━━━━━━━━━━━━━┓\n",
       "┃\u001b[1;35m \u001b[0m\u001b[1;35mSchool Name            \u001b[0m\u001b[1;35m \u001b[0m┃\u001b[1;35m \u001b[0m\u001b[1;35mDegree\u001b[0m\u001b[1;35m \u001b[0m┃\u001b[1;35m \u001b[0m\u001b[1;35mField of Study\u001b[0m\u001b[1;35m \u001b[0m┃\u001b[1;35m \u001b[0m\u001b[1;35m                           Years                           \u001b[0m\u001b[1;35m \u001b[0m┃\n",
       "┡━━━━━━━━━━━━━━━━━━━━━━━━━╇━━━━━━━━╇━━━━━━━━━━━━━━━━╇━━━━━━━━━━━━━━━━━━━━━━━━━━━━━━━━━━━━━━━━━━━━━━━━━━━━━━━━━━━━━┩\n",
       "│\u001b[2m \u001b[0m\u001b[2mHarvard Business School\u001b[0m\u001b[2m \u001b[0m│ MBA    │                │ {'year': 0, 'month': 0, 'day': 0} - {'year': 0, 'month': 0, │\n",
       "│\u001b[2m                         \u001b[0m│        │                │                          'day': 0}                          │\n",
       "│\u001b[2m \u001b[0m\u001b[2mHarvard University     \u001b[0m\u001b[2m \u001b[0m│ A.B.   │ Government     │ {'year': 0, 'month': 0, 'day': 0} - {'year': 0, 'month': 0, │\n",
       "│\u001b[2m                         \u001b[0m│        │                │                          'day': 0}                          │\n",
       "└─────────────────────────┴────────┴────────────────┴─────────────────────────────────────────────────────────────┘\n"
      ]
     },
     "metadata": {},
     "output_type": "display_data"
    },
    {
     "data": {
      "text/html": [
       "<pre style=\"white-space:pre;overflow-x:auto;line-height:normal;font-family:Menlo,'DejaVu Sans Mono',consolas,'Courier New',monospace\">\n",
       "\n",
       "</pre>\n"
      ],
      "text/plain": [
       "\n",
       "\n"
      ]
     },
     "metadata": {},
     "output_type": "display_data"
    },
    {
     "data": {
      "text/html": [
       "<pre style=\"white-space:pre;overflow-x:auto;line-height:normal;font-family:Menlo,'DejaVu Sans Mono',consolas,'Courier New',monospace\"><span style=\"color: #808000; text-decoration-color: #808000; font-weight: bold; text-decoration: underline\">Work Experience</span>\n",
       "</pre>\n"
      ],
      "text/plain": [
       "\u001b[1;4;33mWork Experience\u001b[0m\n"
      ]
     },
     "metadata": {},
     "output_type": "display_data"
    },
    {
     "data": {
      "text/html": [
       "<pre style=\"white-space:pre;overflow-x:auto;line-height:normal;font-family:Menlo,'DejaVu Sans Mono',consolas,'Courier New',monospace\"><span style=\"font-style: italic\">                                                  Work Experience                                                  </span>\n",
       "┏━━━━━━━━━━━━━━━━━━━━━━━━┳━━━━━━━━━━━━━━━━━━━━━━━━┳━━━━━━━━━━━━━┳━━━━━━━━━━━━━━━━━━━━━━━━┳━━━━━━━━━━━━━━━━━━━━━━━━┓\n",
       "┃<span style=\"color: #000080; text-decoration-color: #000080; font-weight: bold\"> Company Name           </span>┃<span style=\"color: #000080; text-decoration-color: #000080; font-weight: bold\"> Title                  </span>┃<span style=\"color: #000080; text-decoration-color: #000080; font-weight: bold\"> Location    </span>┃<span style=\"color: #000080; text-decoration-color: #000080; font-weight: bold\">        Duration        </span>┃<span style=\"color: #000080; text-decoration-color: #000080; font-weight: bold\"> Description            </span>┃\n",
       "┡━━━━━━━━━━━━━━━━━━━━━━━━╇━━━━━━━━━━━━━━━━━━━━━━━━╇━━━━━━━━━━━━━╇━━━━━━━━━━━━━━━━━━━━━━━━╇━━━━━━━━━━━━━━━━━━━━━━━━┩\n",
       "│ Amazon Web Services    │ CEO                    │             │     {'year': 2021,     │ Led AWS from           │\n",
       "│ (AWS)                  │                        │             │ 'month': 5, 'day': 0}  │ pre-revenue to $100B   │\n",
       "│                        │                        │             │    - {'year': 2024,    │ revenue run-rate with  │\n",
       "│                        │                        │             │ 'month': 6, 'day': 0}  │ 37% operating margin.  │\n",
       "│                        │                        │             │                        │ AWS is the world’s     │\n",
       "│                        │                        │             │                        │ most comprehensive and │\n",
       "│                        │                        │             │                        │ broadly adopted cloud  │\n",
       "│                        │                        │             │                        │ offering.              │\n",
       "│ Tableau Software       │ CEO                    │ Seattle, WA │     {'year': 2016,     │ Transformed Tableau to │\n",
       "│                        │                        │             │ 'month': 0, 'day': 0}  │ subscription model     │\n",
       "│                        │                        │             │    - {'year': 2021,    │ from perpetual         │\n",
       "│                        │                        │             │ 'month': 5, 'day': 0}  │ licensing. Led company │\n",
       "│                        │                        │             │                        │ through its            │\n",
       "│                        │                        │             │                        │ acquisition by         │\n",
       "│                        │                        │             │                        │ Salesforce, in what    │\n",
       "│                        │                        │             │                        │ was the third largest  │\n",
       "│                        │                        │             │                        │ software industry      │\n",
       "│                        │                        │             │                        │ acquisition at the     │\n",
       "│                        │                        │             │                        │ time. Tableau helps    │\n",
       "│                        │                        │             │                        │ people see and         │\n",
       "│                        │                        │             │                        │ understand data.       │\n",
       "│                        │                        │             │                        │ People use Tableau’s   │\n",
       "│                        │                        │             │                        │ intuitive business     │\n",
       "│                        │                        │             │                        │ analytics software to  │\n",
       "│                        │                        │             │                        │ fuel exploration, ask  │\n",
       "│                        │                        │             │                        │ questions, and share   │\n",
       "│                        │                        │             │                        │ insights across their  │\n",
       "│                        │                        │             │                        │ organizations.         │\n",
       "│ Amazon Web Services    │ Vice President of      │ Seattle, WA │     {'year': 2005,     │ Worldwide              │\n",
       "│ (AWS)                  │ Marketing, Sales, &amp;    │             │ 'month': 0, 'day': 0}  │ responsibility for AWS │\n",
       "│                        │ Support - COO role     │             │    - {'year': 2016,    │ marketing, sales,      │\n",
       "│                        │                        │             │ 'month': 0, 'day': 0}  │ business development,  │\n",
       "│                        │                        │             │                        │ partner management,    │\n",
       "│                        │                        │             │                        │ technical support and  │\n",
       "│                        │                        │             │                        │ customer service, and  │\n",
       "│                        │                        │             │                        │ product                │\n",
       "│                        │                        │             │                        │ marketing/mgmt. Member │\n",
       "│                        │                        │             │                        │ of Amazon's 18-person  │\n",
       "│                        │                        │             │                        │ senior operating       │\n",
       "│                        │                        │             │                        │ committee (S-Team).    │\n",
       "│                        │                        │             │                        │ Took AWS from          │\n",
       "│                        │                        │             │                        │ pre-revenue to $13B+   │\n",
       "│                        │                        │             │                        │ revenue business still │\n",
       "│                        │                        │             │                        │ growing 50%/yr while   │\n",
       "│                        │                        │             │                        │ growing team size from │\n",
       "│                        │                        │             │                        │ fewer than 10 to       │\n",
       "│                        │                        │             │                        │ thousands.             │\n",
       "│ RealNetworks           │ Vice President         │ Seattle, WA │     {'year': 1999,     │ Vice President for     │\n",
       "│                        │ (general management,   │             │ 'month': 0, 'day': 0}  │ Video Subscription     │\n",
       "│                        │ marketing)             │             │    - {'year': 2005,    │ business, RealPlayer,  │\n",
       "│                        │                        │             │ 'month': 0, 'day': 0}  │ and Customer Support;  │\n",
       "│                        │                        │             │                        │ responsible for over   │\n",
       "│                        │                        │             │                        │ one-third of company   │\n",
       "│                        │                        │             │                        │ revenue. Previously    │\n",
       "│                        │                        │             │                        │ served as Vice         │\n",
       "│                        │                        │             │                        │ President of Consumer  │\n",
       "│                        │                        │             │                        │ Marketing, including   │\n",
       "│                        │                        │             │                        │ running real.com,      │\n",
       "│                        │                        │             │                        │ ranking in top ten     │\n",
       "│                        │                        │             │                        │ most trafficked        │\n",
       "│                        │                        │             │                        │ websites. Also served  │\n",
       "│                        │                        │             │                        │ as General Manager for │\n",
       "│                        │                        │             │                        │ Media Systems          │\n",
       "│                        │                        │             │                        │ Marketing, responsible │\n",
       "│                        │                        │             │                        │ for all marketing      │\n",
       "│                        │                        │             │                        │ activities to          │\n",
       "│                        │                        │             │                        │ enterprises,           │\n",
       "│                        │                        │             │                        │ developers, and IT     │\n",
       "│                        │                        │             │                        │ organizations.         │\n",
       "│ Mercer Management      │ Principal              │ Boston, MA  │     {'year': 1993,     │ Partner in strategy    │\n",
       "│ Consulting             │                        │             │ 'month': 0, 'day': 0}  │ consulting firm,       │\n",
       "│                        │                        │             │    - {'year': 1999,    │ focused on computing   │\n",
       "│                        │                        │             │ 'month': 0, 'day': 0}  │ and communications     │\n",
       "│                        │                        │             │                        │ industries. Led client │\n",
       "│                        │                        │             │                        │ engagements including  │\n",
       "│                        │                        │             │                        │ marketing strategy,    │\n",
       "│                        │                        │             │                        │ cost benchmarking,     │\n",
       "│                        │                        │             │                        │ strategic growth       │\n",
       "│                        │                        │             │                        │ initiatives, merger    │\n",
       "│                        │                        │             │                        │ analysis, financial    │\n",
       "│                        │                        │             │                        │ planning, and process  │\n",
       "│                        │                        │             │                        │ reengineering.         │\n",
       "└────────────────────────┴────────────────────────┴─────────────┴────────────────────────┴────────────────────────┘\n",
       "</pre>\n"
      ],
      "text/plain": [
       "\u001b[3m                                                  Work Experience                                                  \u001b[0m\n",
       "┏━━━━━━━━━━━━━━━━━━━━━━━━┳━━━━━━━━━━━━━━━━━━━━━━━━┳━━━━━━━━━━━━━┳━━━━━━━━━━━━━━━━━━━━━━━━┳━━━━━━━━━━━━━━━━━━━━━━━━┓\n",
       "┃\u001b[1;34m \u001b[0m\u001b[1;34mCompany Name          \u001b[0m\u001b[1;34m \u001b[0m┃\u001b[1;34m \u001b[0m\u001b[1;34mTitle                 \u001b[0m\u001b[1;34m \u001b[0m┃\u001b[1;34m \u001b[0m\u001b[1;34mLocation   \u001b[0m\u001b[1;34m \u001b[0m┃\u001b[1;34m \u001b[0m\u001b[1;34m       Duration       \u001b[0m\u001b[1;34m \u001b[0m┃\u001b[1;34m \u001b[0m\u001b[1;34mDescription           \u001b[0m\u001b[1;34m \u001b[0m┃\n",
       "┡━━━━━━━━━━━━━━━━━━━━━━━━╇━━━━━━━━━━━━━━━━━━━━━━━━╇━━━━━━━━━━━━━╇━━━━━━━━━━━━━━━━━━━━━━━━╇━━━━━━━━━━━━━━━━━━━━━━━━┩\n",
       "│ Amazon Web Services    │ CEO                    │             │     {'year': 2021,     │ Led AWS from           │\n",
       "│ (AWS)                  │                        │             │ 'month': 5, 'day': 0}  │ pre-revenue to $100B   │\n",
       "│                        │                        │             │    - {'year': 2024,    │ revenue run-rate with  │\n",
       "│                        │                        │             │ 'month': 6, 'day': 0}  │ 37% operating margin.  │\n",
       "│                        │                        │             │                        │ AWS is the world’s     │\n",
       "│                        │                        │             │                        │ most comprehensive and │\n",
       "│                        │                        │             │                        │ broadly adopted cloud  │\n",
       "│                        │                        │             │                        │ offering.              │\n",
       "│ Tableau Software       │ CEO                    │ Seattle, WA │     {'year': 2016,     │ Transformed Tableau to │\n",
       "│                        │                        │             │ 'month': 0, 'day': 0}  │ subscription model     │\n",
       "│                        │                        │             │    - {'year': 2021,    │ from perpetual         │\n",
       "│                        │                        │             │ 'month': 5, 'day': 0}  │ licensing. Led company │\n",
       "│                        │                        │             │                        │ through its            │\n",
       "│                        │                        │             │                        │ acquisition by         │\n",
       "│                        │                        │             │                        │ Salesforce, in what    │\n",
       "│                        │                        │             │                        │ was the third largest  │\n",
       "│                        │                        │             │                        │ software industry      │\n",
       "│                        │                        │             │                        │ acquisition at the     │\n",
       "│                        │                        │             │                        │ time. Tableau helps    │\n",
       "│                        │                        │             │                        │ people see and         │\n",
       "│                        │                        │             │                        │ understand data.       │\n",
       "│                        │                        │             │                        │ People use Tableau’s   │\n",
       "│                        │                        │             │                        │ intuitive business     │\n",
       "│                        │                        │             │                        │ analytics software to  │\n",
       "│                        │                        │             │                        │ fuel exploration, ask  │\n",
       "│                        │                        │             │                        │ questions, and share   │\n",
       "│                        │                        │             │                        │ insights across their  │\n",
       "│                        │                        │             │                        │ organizations.         │\n",
       "│ Amazon Web Services    │ Vice President of      │ Seattle, WA │     {'year': 2005,     │ Worldwide              │\n",
       "│ (AWS)                  │ Marketing, Sales, &    │             │ 'month': 0, 'day': 0}  │ responsibility for AWS │\n",
       "│                        │ Support - COO role     │             │    - {'year': 2016,    │ marketing, sales,      │\n",
       "│                        │                        │             │ 'month': 0, 'day': 0}  │ business development,  │\n",
       "│                        │                        │             │                        │ partner management,    │\n",
       "│                        │                        │             │                        │ technical support and  │\n",
       "│                        │                        │             │                        │ customer service, and  │\n",
       "│                        │                        │             │                        │ product                │\n",
       "│                        │                        │             │                        │ marketing/mgmt. Member │\n",
       "│                        │                        │             │                        │ of Amazon's 18-person  │\n",
       "│                        │                        │             │                        │ senior operating       │\n",
       "│                        │                        │             │                        │ committee (S-Team).    │\n",
       "│                        │                        │             │                        │ Took AWS from          │\n",
       "│                        │                        │             │                        │ pre-revenue to $13B+   │\n",
       "│                        │                        │             │                        │ revenue business still │\n",
       "│                        │                        │             │                        │ growing 50%/yr while   │\n",
       "│                        │                        │             │                        │ growing team size from │\n",
       "│                        │                        │             │                        │ fewer than 10 to       │\n",
       "│                        │                        │             │                        │ thousands.             │\n",
       "│ RealNetworks           │ Vice President         │ Seattle, WA │     {'year': 1999,     │ Vice President for     │\n",
       "│                        │ (general management,   │             │ 'month': 0, 'day': 0}  │ Video Subscription     │\n",
       "│                        │ marketing)             │             │    - {'year': 2005,    │ business, RealPlayer,  │\n",
       "│                        │                        │             │ 'month': 0, 'day': 0}  │ and Customer Support;  │\n",
       "│                        │                        │             │                        │ responsible for over   │\n",
       "│                        │                        │             │                        │ one-third of company   │\n",
       "│                        │                        │             │                        │ revenue. Previously    │\n",
       "│                        │                        │             │                        │ served as Vice         │\n",
       "│                        │                        │             │                        │ President of Consumer  │\n",
       "│                        │                        │             │                        │ Marketing, including   │\n",
       "│                        │                        │             │                        │ running real.com,      │\n",
       "│                        │                        │             │                        │ ranking in top ten     │\n",
       "│                        │                        │             │                        │ most trafficked        │\n",
       "│                        │                        │             │                        │ websites. Also served  │\n",
       "│                        │                        │             │                        │ as General Manager for │\n",
       "│                        │                        │             │                        │ Media Systems          │\n",
       "│                        │                        │             │                        │ Marketing, responsible │\n",
       "│                        │                        │             │                        │ for all marketing      │\n",
       "│                        │                        │             │                        │ activities to          │\n",
       "│                        │                        │             │                        │ enterprises,           │\n",
       "│                        │                        │             │                        │ developers, and IT     │\n",
       "│                        │                        │             │                        │ organizations.         │\n",
       "│ Mercer Management      │ Principal              │ Boston, MA  │     {'year': 1993,     │ Partner in strategy    │\n",
       "│ Consulting             │                        │             │ 'month': 0, 'day': 0}  │ consulting firm,       │\n",
       "│                        │                        │             │    - {'year': 1999,    │ focused on computing   │\n",
       "│                        │                        │             │ 'month': 0, 'day': 0}  │ and communications     │\n",
       "│                        │                        │             │                        │ industries. Led client │\n",
       "│                        │                        │             │                        │ engagements including  │\n",
       "│                        │                        │             │                        │ marketing strategy,    │\n",
       "│                        │                        │             │                        │ cost benchmarking,     │\n",
       "│                        │                        │             │                        │ strategic growth       │\n",
       "│                        │                        │             │                        │ initiatives, merger    │\n",
       "│                        │                        │             │                        │ analysis, financial    │\n",
       "│                        │                        │             │                        │ planning, and process  │\n",
       "│                        │                        │             │                        │ reengineering.         │\n",
       "└────────────────────────┴────────────────────────┴─────────────┴────────────────────────┴────────────────────────┘\n"
      ]
     },
     "metadata": {},
     "output_type": "display_data"
    },
    {
     "data": {
      "text/html": [
       "<pre style=\"white-space:pre;overflow-x:auto;line-height:normal;font-family:Menlo,'DejaVu Sans Mono',consolas,'Courier New',monospace\">\n",
       "\n",
       "</pre>\n"
      ],
      "text/plain": [
       "\n",
       "\n"
      ]
     },
     "metadata": {},
     "output_type": "display_data"
    },
    {
     "data": {
      "text/html": [
       "<pre style=\"white-space:pre;overflow-x:auto;line-height:normal;font-family:Menlo,'DejaVu Sans Mono',consolas,'Courier New',monospace\"><span style=\"color: #000080; text-decoration-color: #000080; font-weight: bold; text-decoration: underline\">Skills</span>\n",
       "</pre>\n"
      ],
      "text/plain": [
       "\u001b[1;4;34mSkills\u001b[0m\n"
      ]
     },
     "metadata": {},
     "output_type": "display_data"
    },
    {
     "data": {
      "text/html": [
       "<pre style=\"white-space:pre;overflow-x:auto;line-height:normal;font-family:Menlo,'DejaVu Sans Mono',consolas,'Courier New',monospace\"><span style=\"font-style: italic\">                 Skills                  </span>\n",
       "┏━━━━━━━━━━━━━━━━━━━━━━━━┳━━━━━━━━━━━━━━┓\n",
       "┃<span style=\"color: #008080; text-decoration-color: #008080; font-weight: bold\"> Skill Name             </span>┃<span style=\"color: #008080; text-decoration-color: #008080; font-weight: bold\"> Endorsements </span>┃\n",
       "┡━━━━━━━━━━━━━━━━━━━━━━━━╇━━━━━━━━━━━━━━┩\n",
       "│ Entrepreneurship       │      12      │\n",
       "│ Product Marketing      │      7       │\n",
       "│ Business Strategy      │      8       │\n",
       "│ Mergers &amp; Acquisitions │      5       │\n",
       "│ Management             │      13      │\n",
       "│ Marketing Strategy     │      9       │\n",
       "│ SaaS                   │      5       │\n",
       "│ Business Development   │      21      │\n",
       "│ Product Management     │      28      │\n",
       "│ Management Consulting  │      3       │\n",
       "│ Program Management     │      4       │\n",
       "│ Marketing              │      5       │\n",
       "│ Cloud Computing        │      22      │\n",
       "│ Go-to-market Strategy  │      9       │\n",
       "│ Sales                  │      2       │\n",
       "│ Leadership             │      5       │\n",
       "│ Start-ups              │      5       │\n",
       "│ Strategy               │      8       │\n",
       "│ Strategic Partnerships │      22      │\n",
       "└────────────────────────┴──────────────┘\n",
       "</pre>\n"
      ],
      "text/plain": [
       "\u001b[3m                 Skills                  \u001b[0m\n",
       "┏━━━━━━━━━━━━━━━━━━━━━━━━┳━━━━━━━━━━━━━━┓\n",
       "┃\u001b[1;36m \u001b[0m\u001b[1;36mSkill Name            \u001b[0m\u001b[1;36m \u001b[0m┃\u001b[1;36m \u001b[0m\u001b[1;36mEndorsements\u001b[0m\u001b[1;36m \u001b[0m┃\n",
       "┡━━━━━━━━━━━━━━━━━━━━━━━━╇━━━━━━━━━━━━━━┩\n",
       "│ Entrepreneurship       │      12      │\n",
       "│ Product Marketing      │      7       │\n",
       "│ Business Strategy      │      8       │\n",
       "│ Mergers & Acquisitions │      5       │\n",
       "│ Management             │      13      │\n",
       "│ Marketing Strategy     │      9       │\n",
       "│ SaaS                   │      5       │\n",
       "│ Business Development   │      21      │\n",
       "│ Product Management     │      28      │\n",
       "│ Management Consulting  │      3       │\n",
       "│ Program Management     │      4       │\n",
       "│ Marketing              │      5       │\n",
       "│ Cloud Computing        │      22      │\n",
       "│ Go-to-market Strategy  │      9       │\n",
       "│ Sales                  │      2       │\n",
       "│ Leadership             │      5       │\n",
       "│ Start-ups              │      5       │\n",
       "│ Strategy               │      8       │\n",
       "│ Strategic Partnerships │      22      │\n",
       "└────────────────────────┴──────────────┘\n"
      ]
     },
     "metadata": {},
     "output_type": "display_data"
    },
    {
     "data": {
      "text/html": [
       "<pre style=\"white-space:pre;overflow-x:auto;line-height:normal;font-family:Menlo,'DejaVu Sans Mono',consolas,'Courier New',monospace\">\n",
       "\n",
       "</pre>\n"
      ],
      "text/plain": [
       "\n",
       "\n"
      ]
     },
     "metadata": {},
     "output_type": "display_data"
    }
   ],
   "source": [
    "display_results()"
   ]
  }
 ],
 "metadata": {
  "kernelspec": {
   "display_name": "Python 3 (ipykernel)",
   "language": "python",
   "name": "python3"
  },
  "language_info": {
   "codemirror_mode": {
    "name": "ipython",
    "version": 3
   },
   "file_extension": ".py",
   "mimetype": "text/x-python",
   "name": "python",
   "nbconvert_exporter": "python",
   "pygments_lexer": "ipython3",
   "version": "3.12.3"
  }
 },
 "nbformat": 4,
 "nbformat_minor": 5
}
