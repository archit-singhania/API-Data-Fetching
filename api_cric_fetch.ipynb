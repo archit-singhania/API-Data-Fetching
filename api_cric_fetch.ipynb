{
 "cells": [
  {
   "cell_type": "code",
   "execution_count": 84,
   "id": "6f52b2da-4411-4a02-9bd9-456c01a9f419",
   "metadata": {
    "scrolled": true
   },
   "outputs": [],
   "source": [
    "import requests\n",
    "import json\n",
    "\n",
    "def setup_api():\n",
    "    endpoint = \"https://cricbuzz-cricket.p.rapidapi.com/mcenter/v1/41881/comm\"\n",
    "    headers = {\n",
    "    \t\"x-rapidapi-key\": \"b1eae6d022msh7daf5d27f9b259dp1e9c79jsn92395fddbca6\",\n",
    "    \t\"x-rapidapi-host\": \"cricbuzz-cricket.p.rapidapi.com\"\n",
    "    }\n",
    "    return endpoint, headers"
   ]
  },
  {
   "cell_type": "code",
   "execution_count": 85,
   "id": "67d5366c-d700-4e97-84a2-216763d8e408",
   "metadata": {},
   "outputs": [],
   "source": [
    "def fetch_data(endpoint, headers):\n",
    "    try:\n",
    "        response = requests.get(endpoint, headers=headers)\n",
    "        if response.status_code == 200:\n",
    "            return response.json()\n",
    "        else:\n",
    "            print(f\"Failed to fetch data. Status code: {response.status_code}\")\n",
    "            return None\n",
    "    except Exception as e:\n",
    "        print(f\"Error during request: {e}\")\n",
    "        return None\n"
   ]
  },
  {
   "cell_type": "code",
   "execution_count": 86,
   "id": "88c32298-2351-44d4-9983-ed90a1e4dc3c",
   "metadata": {},
   "outputs": [],
   "source": [
    "def process_data(response_data):\n",
    "    if response_data:\n",
    "        commentary_list = response_data.get('commentaryList', [])\n",
    "        match_info = response_data.get('matchHeader', {})\n",
    "        mini_score = response_data.get('miniscore', {})\n",
    "        match_score_details = response_data.get('matchScoreDetails', {})\n",
    "        match_desc = match_info.get('matchDescription', 'Unknown Match')\n",
    "        result = match_info.get('status', 'Unknown Status')\n",
    "        winning_team = match_info.get('result', {}).get('winningTeam', 'Unknown Team') \n",
    "        series_name = match_info.get('seriesName', 'Unknown Series')  \n",
    "        print(f\"Match Summary:\")\n",
    "        print(f\"Series: {series_name}\")\n",
    "        print(f\"Result: {result}\")\n",
    "        print(f\"Winning Team: {winning_team}\")\n",
    "        print(\"\\nRecent Commentary:\")\n",
    "        for commentary in commentary_list:\n",
    "            comm_text = commentary.get('commText', '').strip()\n",
    "            if comm_text:  \n",
    "                cleaned_comm_text = clean_commentary(comm_text)\n",
    "                event = commentary.get('event', 'NONE')\n",
    "                if cleaned_comm_text:\n",
    "                    print(f\"- {cleaned_comm_text} (Event: {event})\")\n",
    "        print(\"\\nCurrent Match Stats:\")\n",
    "        innings_list = match_score_details.get('inningsScoreList', [])\n",
    "        if not innings_list:\n",
    "            print(\"Debug: inningsScoreList is empty or missing!\")\n",
    "            score = \"Unable to fetch score\"\n",
    "        else:\n",
    "            score = \"Unknown Score\"\n",
    "            for innings in innings_list:\n",
    "                if innings.get('batTeamName', '') == \"UAEU19\": \n",
    "                    score = f\"{innings.get('score', 'Unknown Score')}/{innings.get('wickets', 0)}\"\n",
    "        print(f\"Score: {score}\")\n",
    "        overs = mini_score.get('overs', 'Unknown Overs')\n",
    "        print(f\"Overs: {overs}\")\n",
    "    else:\n",
    "        print(\"No data to process\")\n",
    "\n",
    "def clean_commentary(comm_text):\n",
    "    cleaned_text = comm_text.replace(\"B0$\", \"\").replace(\"B1$\", \"\").strip()\n",
    "    cleaned_text = ' '.join(cleaned_text.split())  # Removes extra spaces\n",
    "    return cleaned_text"
   ]
  },
  {
   "cell_type": "code",
   "execution_count": 87,
   "id": "27b28c71-9082-4734-936d-beb80e2d2267",
   "metadata": {},
   "outputs": [],
   "source": [
    "def display_results():\n",
    "    endpoint, headers = setup_api()\n",
    "    response_data = fetch_data(endpoint, headers)\n",
    "    process_data(response_data)"
   ]
  },
  {
   "cell_type": "code",
   "execution_count": 88,
   "id": "fda056f4-1a0f-422b-aa04-4612fcd4fb14",
   "metadata": {},
   "outputs": [
    {
     "name": "stdout",
     "output_type": "stream",
     "text": [
      "Match Summary:\n",
      "Series: ACC U19 Asia Cup 2021\n",
      "Result: Afghanistan U19 won by 140 runs\n",
      "Winning Team: Afghanistan U19\n",
      "\n",
      "Recent Commentary:\n",
      "- Afghanistan U19 won by 140 runs (Event: NONE)\n",
      "- Izharulhaq Naveed to Sailles Jaishankar, Lbw!! (Event: WICKET)\n",
      "- Izharulhaq Naveed to Sailles Jaishankar, Lbw!! (Event: NONE)\n",
      "- Izharulhaq Naveed to Adhitya Shetty, Bowled!! (Event: WICKET)\n",
      "- Izharulhaq Naveed to Adhitya Shetty, Bowled!! (Event: NONE)\n",
      "- Izharulhaq Naveed to Adhitya Shetty, no run (Event: NONE)\n",
      "- Izharulhaq Naveed to Adhitya Shetty, no run (Event: NONE)\n",
      "- Noor Ahmad to Afzal Khan, 2 runs (Event: over-break)\n",
      "- Noor Ahmad to Afzal Khan, no run (Event: NONE)\n",
      "- Noor Ahmad to Afzal Khan, no run (Event: NONE)\n",
      "- Noor Ahmad to Afzal Khan, no run (Event: NONE)\n",
      "- Noor Ahmad to Afzal Khan, 2 runs (Event: NONE)\n",
      "- Noor Ahmad to Afzal Khan, no run (Event: NONE)\n",
      "- Noor Ahmad to Afzal Khan, (Event: NONE)\n",
      "- Izharulhaq Naveed to Adhitya Shetty, no run (Event: over-break)\n",
      "- Izharulhaq Naveed to Afzal Khan, 1 run (Event: NONE)\n",
      "- Izharulhaq Naveed to Afzal Khan, no run (Event: NONE)\n",
      "- Izharulhaq Naveed to Afzal Khan, no run (Event: NONE)\n",
      "- Izharulhaq Naveed to Afzal Khan, (Event: FOUR)\n",
      "\n",
      "Current Match Stats:\n",
      "Debug: inningsScoreList is empty or missing!\n",
      "Score: Unable to fetch score\n",
      "Overs: 14.4\n"
     ]
    }
   ],
   "source": [
    "display_results()"
   ]
  },
  {
   "cell_type": "code",
   "execution_count": null,
   "id": "7ce84b47-f577-42d2-923e-b7bc1268f56c",
   "metadata": {},
   "outputs": [],
   "source": []
  }
 ],
 "metadata": {
  "kernelspec": {
   "display_name": "Python 3 (ipykernel)",
   "language": "python",
   "name": "python3"
  },
  "language_info": {
   "codemirror_mode": {
    "name": "ipython",
    "version": 3
   },
   "file_extension": ".py",
   "mimetype": "text/x-python",
   "name": "python",
   "nbconvert_exporter": "python",
   "pygments_lexer": "ipython3",
   "version": "3.12.3"
  }
 },
 "nbformat": 4,
 "nbformat_minor": 5
}
